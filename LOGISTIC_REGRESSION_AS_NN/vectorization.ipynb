{
 "cells": [
  {
   "cell_type": "code",
   "execution_count": 18,
   "metadata": {},
   "outputs": [],
   "source": [
    "import numpy as np\n",
    "import time"
   ]
  },
  {
   "cell_type": "markdown",
   "metadata": {},
   "source": [
    "#  VECTORIZATION"
   ]
  },
  {
   "cell_type": "code",
   "execution_count": 14,
   "metadata": {},
   "outputs": [
    {
     "name": "stdout",
     "output_type": "stream",
     "text": [
      "250635.28982475592\n",
      "Vectorized version: 0.0017609596252441406 ms\n",
      "250635.28982475097\n",
      "For loop version: 0.49457716941833496 ms\n"
     ]
    }
   ],
   "source": [
    "A = np.random.rand(1000000)\n",
    "B = np.random.rand(1000000)\n",
    "\n",
    "# vectorized version\n",
    "tic = time.time()\n",
    "C = np.dot(A,B)\n",
    "toc = time.time()\n",
    "print(C)\n",
    "print('Vectorized version: %s ms' %(toc-tic))\n",
    "\n",
    "# for loop version \n",
    "tic = time.time()\n",
    "C = 0\n",
    "for i in range(1000000):\n",
    "    C += A[i]*B[i]\n",
    "toc = time.time()\n",
    "print(C)\n",
    "print(\"For loop version: %s ms\" %(toc-tic))"
   ]
  },
  {
   "cell_type": "code",
   "execution_count": 20,
   "metadata": {},
   "outputs": [
    {
     "data": {
      "text/plain": [
       "(12288, 45)"
      ]
     },
     "execution_count": 20,
     "metadata": {},
     "output_type": "execute_result"
    }
   ],
   "source": [
    "a = np.random.randn(12288,150)\n",
    "b = np.random.randn(150,45)\n",
    "np.dot(a,b).shape"
   ]
  },
  {
   "cell_type": "code",
   "execution_count": 23,
   "metadata": {},
   "outputs": [
    {
     "data": {
      "text/plain": [
       "(3, 3)"
      ]
     },
     "execution_count": 23,
     "metadata": {},
     "output_type": "execute_result"
    }
   ],
   "source": [
    "a = np.random.randn(3,3)\n",
    "b = np.random.randn(3,1)\n",
    "c = a*b\n",
    "c.shape"
   ]
  },
  {
   "cell_type": "code",
   "execution_count": null,
   "metadata": {},
   "outputs": [],
   "source": []
  }
 ],
 "metadata": {
  "kernelspec": {
   "display_name": "(intel-2020) Python 3",
   "language": "python",
   "name": "conda-env-intel-2020-py"
  },
  "language_info": {
   "codemirror_mode": {
    "name": "ipython",
    "version": 3
   },
   "file_extension": ".py",
   "mimetype": "text/x-python",
   "name": "python",
   "nbconvert_exporter": "python",
   "pygments_lexer": "ipython3",
   "version": "3.7.10"
  }
 },
 "nbformat": 4,
 "nbformat_minor": 4
}
